{
 "cells": [
  {
   "cell_type": "code",
   "execution_count": 17,
   "id": "4d6f2ab8",
   "metadata": {},
   "outputs": [],
   "source": [
    "import pandas as pd\n",
    "from fastapi import FastAPI, HTTPException\n",
    "from pydantic import BaseModel\n",
    "import joblib\n",
    "\n",
    "# Load the trained model\n",
    "#model = joblib.load('automl_model.pkl')\n",
    "\n",
    "import cloudpickle\n",
    "\n",
    "with open(\"automl_pipeline.pkl\", \"rb\") as f:\n",
    "    model = cloudpickle.load(f)\n",
    "\n",
    "\n",
    "app = FastAPI(debug=True)\n",
    "\n",
    "# Define the request data format\n",
    "class LoanData(BaseModel):\n",
    "    asset_manufacturer_id: float\n",
    "    area_code: float\n",
    "    credit_score: float\n",
    "    new_loan_accounts_in_last_6_months: float\n",
    "    overdue_accounts_in_last_6_months: float\n",
    "    avg_account_age: float\n",
    "    credit_history_length: float\n",
    "    no_of_inquiries_in_last_month: float\n",
    "    no_of_loan_accounts: float\n",
    "    active_loan_accounts: float\n",
    "    overdue_accounts: float\n",
    "    existing_loan_balance: float\n",
    "    total_disbursed_amount: float\n",
    "    current_installment: float\n",
    "    employment_type: str\n",
    "    aadhaar_available:  bool\n",
    "    pan_available: bool\n",
    "    voter_id_available: bool \n",
    "    driving_licence_available: bool \n",
    "    passport_available: bool\n",
    "    # Add any other features required for prediction\n",
    "\n",
    "@app.post(\"/predict\")\n",
    "def predict(data: LoanData):\n",
    "    # Extract data from the request\n",
    "    try: \n",
    "        employment_map = {\"salaried\": 1, \"self-employed\": 0}\n",
    "        emp_val = employment_map.get(data.employment_type.lower())\n",
    "        if emp_val is None:\n",
    "            raise HTTPException(status_code=400, detail=\"Invalid employment_type. Use 'salaried' or 'self-employed'.\")\n",
    "    \n",
    "        input_dict = {\n",
    "            \"asset_manufacturer_id\": data.asset_manufacturer_id,\n",
    "            \"area_code\": data.area_code,\n",
    "            \"credit_score\": data.credit_score,\n",
    "            \"new_loan_accounts_in_last_6_months\": data.new_loan_accounts_in_last_6_months,\n",
    "            \"overdue_accounts_in_last_6_months\": data.overdue_accounts_in_last_6_months,\n",
    "            \"avg_account_age\": data.avg_account_age,\n",
    "            \"credit_history_length\": data.credit_history_length,\n",
    "            \"no_of_inquiries_in_last_month\": data.no_of_inquiries_in_last_month,\n",
    "            \"no_of_loan_accounts\": data.no_of_loan_accounts,\n",
    "            \"active_loan_accounts\": data.active_loan_accounts,\n",
    "            \"overdue_accounts\": data.overdue_accounts,\n",
    "            \"existing_loan_balance\": data.existing_loan_balance,\n",
    "            \"total_disbursed_amount\": data.total_disbursed_amount,\n",
    "            \"current_installment\": data.current_installment,\n",
    "            \"employment_type\": data.employment_type,  # pass the string here\n",
    "            \"aadhaar_available\": data.aadhaar_available,\n",
    "            \"pan_available\": data.pan_available,\n",
    "            \"voter_id_available\": data.voter_id_available,\n",
    "            \"driving_licence_available\": data.driving_licence_available,\n",
    "            \"passport_available\": data.passport_available\n",
    "        }\n",
    "\n",
    "        input_df = pd.DataFrame([input_dict])\n",
    "\n",
    "        # Make a prediction using the model\n",
    "        prediction = model.predict(input_df)\n",
    "        return {\"prediction\": int(prediction[0])}  # Return the prediction\n",
    "    except Exception as e:\n",
    "        raise HTTPException(status_code=500, detail=f\"Prediction failed: {e}\")\n"
   ]
  },
  {
   "cell_type": "code",
   "execution_count": 16,
   "id": "be4f38ab",
   "metadata": {},
   "outputs": [
    {
     "name": "stdout",
     "output_type": "stream",
     "text": [
      "Current working directory: C:\\Users\\udani\\PrideVel Technologies\\Vehicle loan defaulter emi payment (during payment tenure)\n"
     ]
    }
   ],
   "source": [
    "import os\n",
    "print(\"Current working directory:\", os.getcwd())\n"
   ]
  },
  {
   "cell_type": "code",
   "execution_count": null,
   "id": "0c168944",
   "metadata": {},
   "outputs": [],
   "source": [
    "#https://chatgpt.com/share/68247f1e-aa9c-800f-a947-e50f78068345"
   ]
  }
 ],
 "metadata": {
  "kernelspec": {
   "display_name": "Python 3 (ipykernel)",
   "language": "python",
   "name": "python3"
  },
  "language_info": {
   "codemirror_mode": {
    "name": "ipython",
    "version": 3
   },
   "file_extension": ".py",
   "mimetype": "text/x-python",
   "name": "python",
   "nbconvert_exporter": "python",
   "pygments_lexer": "ipython3",
   "version": "3.9.13"
  }
 },
 "nbformat": 4,
 "nbformat_minor": 5
}
